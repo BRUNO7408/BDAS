{
 "cells": [
  {
   "cell_type": "code",
   "execution_count": 1,
   "metadata": {},
   "outputs": [
    {
     "name": "stdout",
     "output_type": "stream",
     "text": [
      "This work will give the detailed analysis of Life Expectancy based on some social, health-based and economic factors.\n"
     ]
    }
   ],
   "source": [
    "###Business Understanding\n",
    "\n",
    "print(\"This work will give the detailed analysis of Life Expectancy based on some social, health-based and economic factors.\")"
   ]
  },
  {
   "cell_type": "code",
   "execution_count": 2,
   "metadata": {},
   "outputs": [],
   "source": [
    "import findspark\n",
    "findspark.init('/home/ubuntu/spark-2.1.1-bin-hadoop2.7')\n",
    "import pyspark\n",
    "from pyspark.sql import SparkSession\n",
    "spark = SparkSession.builder.appName('DataFrame').getOrCreate()\n",
    "\n",
    "from pyspark.sql import functions as f\n",
    "from pyspark.ml.regression import LinearRegression\n",
    "from pyspark.ml.linalg import Vectors\n",
    "from pyspark.ml.feature import VectorAssembler"
   ]
  },
  {
   "cell_type": "code",
   "execution_count": 3,
   "metadata": {},
   "outputs": [],
   "source": [
    "### Data Understanding\n",
    "###Reading the csv file\n",
    "df = spark.read.csv('datasets_12603_17232_Life Expectancy Data.csv', header=True, inferSchema=True)"
   ]
  },
  {
   "cell_type": "code",
   "execution_count": 4,
   "metadata": {},
   "outputs": [
    {
     "data": {
      "text/plain": [
       "[Row(Country='Afghanistan', Year=2015, Status='Developing', Life expectancy =65.0, Adult Mortality=263, infant deaths=62, Alcohol=0.01, percentage expenditure=71.27962362, Hepatitis B=65, Measles =1154,  BMI =19.1, under-five deaths =83, Polio=6, Total expenditure=8.16, Diphtheria =65,  HIV/AIDS=0.1, GDP=584.25921, Population=33736494.0,  thinness  1-19 years=17.2,  thinness 5-9 years=17.3, Income composition of resources=0.479, Schooling=10.1)]"
      ]
     },
     "execution_count": 4,
     "metadata": {},
     "output_type": "execute_result"
    }
   ],
   "source": [
    "###Showing the 1st Row\n",
    "df.head(1)"
   ]
  },
  {
   "cell_type": "code",
   "execution_count": 5,
   "metadata": {
    "scrolled": true
   },
   "outputs": [
    {
     "name": "stdout",
     "output_type": "stream",
     "text": [
      "+-----------+----+----------+----------------+---------------+-------------+-------+----------------------+-----------+--------+-----+------------------+-----+-----------------+-----------+---------+----------+-----------+---------------------+-------------------+-------------------------------+---------+\n",
      "|    Country|Year|    Status|Life expectancy |Adult Mortality|infant deaths|Alcohol|percentage expenditure|Hepatitis B|Measles | BMI |under-five deaths |Polio|Total expenditure|Diphtheria | HIV/AIDS|       GDP| Population| thinness  1-19 years| thinness 5-9 years|Income composition of resources|Schooling|\n",
      "+-----------+----+----------+----------------+---------------+-------------+-------+----------------------+-----------+--------+-----+------------------+-----+-----------------+-----------+---------+----------+-----------+---------------------+-------------------+-------------------------------+---------+\n",
      "|Afghanistan|2015|Developing|            65.0|            263|           62|   0.01|           71.27962362|         65|    1154| 19.1|                83|    6|             8.16|         65|      0.1| 584.25921|3.3736494E7|                 17.2|               17.3|                          0.479|     10.1|\n",
      "|Afghanistan|2014|Developing|            59.9|            271|           64|   0.01|           73.52358168|         62|     492| 18.6|                86|   58|             8.18|         62|      0.1|612.696514|   327582.0|                 17.5|               17.5|                          0.476|     10.0|\n",
      "|Afghanistan|2013|Developing|            59.9|            268|           66|   0.01|           73.21924272|         64|     430| 18.1|                89|   62|             8.13|         64|      0.1|631.744976|3.1731688E7|                 17.7|               17.7|                           0.47|      9.9|\n",
      "|Afghanistan|2012|Developing|            59.5|            272|           69|   0.01|            78.1842153|         67|    2787| 17.6|                93|   67|             8.52|         67|      0.1|   669.959|  3696958.0|                 17.9|               18.0|                          0.463|      9.8|\n",
      "|Afghanistan|2011|Developing|            59.2|            275|           71|   0.01|           7.097108703|         68|    3013| 17.2|                97|   68|             7.87|         68|      0.1| 63.537231|  2978599.0|                 18.2|               18.2|                          0.454|      9.5|\n",
      "+-----------+----+----------+----------------+---------------+-------------+-------+----------------------+-----------+--------+-----+------------------+-----+-----------------+-----------+---------+----------+-----------+---------------------+-------------------+-------------------------------+---------+\n",
      "only showing top 5 rows\n",
      "\n"
     ]
    }
   ],
   "source": [
    "#Head in Python\n",
    "df.show(5)"
   ]
  },
  {
   "cell_type": "code",
   "execution_count": 6,
   "metadata": {},
   "outputs": [
    {
     "data": {
      "text/plain": [
       "['Country',\n",
       " 'Year',\n",
       " 'Status',\n",
       " 'Life expectancy ',\n",
       " 'Adult Mortality',\n",
       " 'infant deaths',\n",
       " 'Alcohol',\n",
       " 'percentage expenditure',\n",
       " 'Hepatitis B',\n",
       " 'Measles ',\n",
       " ' BMI ',\n",
       " 'under-five deaths ',\n",
       " 'Polio',\n",
       " 'Total expenditure',\n",
       " 'Diphtheria ',\n",
       " ' HIV/AIDS',\n",
       " 'GDP',\n",
       " 'Population',\n",
       " ' thinness  1-19 years',\n",
       " ' thinness 5-9 years',\n",
       " 'Income composition of resources',\n",
       " 'Schooling']"
      ]
     },
     "execution_count": 6,
     "metadata": {},
     "output_type": "execute_result"
    }
   ],
   "source": [
    "#Column Names\n",
    "df.columns"
   ]
  },
  {
   "cell_type": "code",
   "execution_count": 7,
   "metadata": {},
   "outputs": [
    {
     "name": "stdout",
     "output_type": "stream",
     "text": [
      "root\n",
      " |-- Country: string (nullable = true)\n",
      " |-- Year: integer (nullable = true)\n",
      " |-- Status: string (nullable = true)\n",
      " |-- Life expectancy : double (nullable = true)\n",
      " |-- Adult Mortality: integer (nullable = true)\n",
      " |-- infant deaths: integer (nullable = true)\n",
      " |-- Alcohol: double (nullable = true)\n",
      " |-- percentage expenditure: double (nullable = true)\n",
      " |-- Hepatitis B: integer (nullable = true)\n",
      " |-- Measles : integer (nullable = true)\n",
      " |--  BMI : double (nullable = true)\n",
      " |-- under-five deaths : integer (nullable = true)\n",
      " |-- Polio: integer (nullable = true)\n",
      " |-- Total expenditure: double (nullable = true)\n",
      " |-- Diphtheria : integer (nullable = true)\n",
      " |--  HIV/AIDS: double (nullable = true)\n",
      " |-- GDP: double (nullable = true)\n",
      " |-- Population: double (nullable = true)\n",
      " |--  thinness  1-19 years: double (nullable = true)\n",
      " |--  thinness 5-9 years: double (nullable = true)\n",
      " |-- Income composition of resources: double (nullable = true)\n",
      " |-- Schooling: double (nullable = true)\n",
      "\n"
     ]
    }
   ],
   "source": [
    "#Data types of Columns\n",
    "df.printSchema()"
   ]
  },
  {
   "cell_type": "code",
   "execution_count": 8,
   "metadata": {},
   "outputs": [
    {
     "name": "stdout",
     "output_type": "stream",
     "text": [
      "+----------------+\n",
      "|Life expectancy |\n",
      "+----------------+\n",
      "|            65.0|\n",
      "|            59.9|\n",
      "|            59.9|\n",
      "|            59.5|\n",
      "|            59.2|\n",
      "|            58.8|\n",
      "|            58.6|\n",
      "|            58.1|\n",
      "|            57.5|\n",
      "|            57.3|\n",
      "+----------------+\n",
      "only showing top 10 rows\n",
      "\n"
     ]
    }
   ],
   "source": [
    "df.select('Life expectancy ').show(10)"
   ]
  },
  {
   "cell_type": "code",
   "execution_count": 9,
   "metadata": {},
   "outputs": [
    {
     "name": "stdout",
     "output_type": "stream",
     "text": [
      "+-------+-----------------+\n",
      "|summary| Life expectancy |\n",
      "+-------+-----------------+\n",
      "|  count|             2928|\n",
      "|   mean|69.22493169398912|\n",
      "| stddev|9.523867487824305|\n",
      "|    min|             36.3|\n",
      "|    max|             89.0|\n",
      "+-------+-----------------+\n",
      "\n"
     ]
    }
   ],
   "source": [
    "#Showing min, max, avg values of Life Expectancy\n",
    "df.describe('Life expectancy ').show()"
   ]
  },
  {
   "cell_type": "code",
   "execution_count": 10,
   "metadata": {},
   "outputs": [],
   "source": [
    "#Counting the Missing Values\n",
    "def count_missings(spark_df,sort=True):\n",
    "    df = spark_df.select([f.count(f.when(f.isnan(c) | f.isnull(c), c)).alias(c) for (c,c_type) in spark_df.dtypes if c_type not in ('timestamp', 'string', 'date')]).toPandas()\n",
    "    if len(df) == 0:\n",
    "        print(\"There are no any missing values!\")\n",
    "        return None\n",
    "    if sort:\n",
    "        return df.rename(index={0: 'count'}).T.sort_values(\"count\",ascending=False)\n",
    "    return df"
   ]
  },
  {
   "cell_type": "code",
   "execution_count": 11,
   "metadata": {},
   "outputs": [
    {
     "data": {
      "text/html": [
       "<div>\n",
       "<style scoped>\n",
       "    .dataframe tbody tr th:only-of-type {\n",
       "        vertical-align: middle;\n",
       "    }\n",
       "\n",
       "    .dataframe tbody tr th {\n",
       "        vertical-align: top;\n",
       "    }\n",
       "\n",
       "    .dataframe thead th {\n",
       "        text-align: right;\n",
       "    }\n",
       "</style>\n",
       "<table border=\"1\" class=\"dataframe\">\n",
       "  <thead>\n",
       "    <tr style=\"text-align: right;\">\n",
       "      <th></th>\n",
       "      <th>count</th>\n",
       "    </tr>\n",
       "  </thead>\n",
       "  <tbody>\n",
       "    <tr>\n",
       "      <th>Population</th>\n",
       "      <td>652</td>\n",
       "    </tr>\n",
       "    <tr>\n",
       "      <th>Hepatitis B</th>\n",
       "      <td>553</td>\n",
       "    </tr>\n",
       "    <tr>\n",
       "      <th>GDP</th>\n",
       "      <td>448</td>\n",
       "    </tr>\n",
       "    <tr>\n",
       "      <th>Total expenditure</th>\n",
       "      <td>226</td>\n",
       "    </tr>\n",
       "    <tr>\n",
       "      <th>Alcohol</th>\n",
       "      <td>194</td>\n",
       "    </tr>\n",
       "    <tr>\n",
       "      <th>Income composition of resources</th>\n",
       "      <td>167</td>\n",
       "    </tr>\n",
       "    <tr>\n",
       "      <th>Schooling</th>\n",
       "      <td>163</td>\n",
       "    </tr>\n",
       "    <tr>\n",
       "      <th>thinness 5-9 years</th>\n",
       "      <td>34</td>\n",
       "    </tr>\n",
       "    <tr>\n",
       "      <th>thinness  1-19 years</th>\n",
       "      <td>34</td>\n",
       "    </tr>\n",
       "    <tr>\n",
       "      <th>BMI</th>\n",
       "      <td>34</td>\n",
       "    </tr>\n",
       "    <tr>\n",
       "      <th>Diphtheria</th>\n",
       "      <td>19</td>\n",
       "    </tr>\n",
       "    <tr>\n",
       "      <th>Polio</th>\n",
       "      <td>19</td>\n",
       "    </tr>\n",
       "    <tr>\n",
       "      <th>Life expectancy</th>\n",
       "      <td>10</td>\n",
       "    </tr>\n",
       "    <tr>\n",
       "      <th>Adult Mortality</th>\n",
       "      <td>10</td>\n",
       "    </tr>\n",
       "    <tr>\n",
       "      <th>HIV/AIDS</th>\n",
       "      <td>0</td>\n",
       "    </tr>\n",
       "    <tr>\n",
       "      <th>under-five deaths</th>\n",
       "      <td>0</td>\n",
       "    </tr>\n",
       "    <tr>\n",
       "      <th>Measles</th>\n",
       "      <td>0</td>\n",
       "    </tr>\n",
       "    <tr>\n",
       "      <th>percentage expenditure</th>\n",
       "      <td>0</td>\n",
       "    </tr>\n",
       "    <tr>\n",
       "      <th>infant deaths</th>\n",
       "      <td>0</td>\n",
       "    </tr>\n",
       "    <tr>\n",
       "      <th>Year</th>\n",
       "      <td>0</td>\n",
       "    </tr>\n",
       "  </tbody>\n",
       "</table>\n",
       "</div>"
      ],
      "text/plain": [
       "                                 count\n",
       "Population                         652\n",
       "Hepatitis B                        553\n",
       "GDP                                448\n",
       "Total expenditure                  226\n",
       "Alcohol                            194\n",
       "Income composition of resources    167\n",
       "Schooling                          163\n",
       " thinness 5-9 years                 34\n",
       " thinness  1-19 years               34\n",
       " BMI                                34\n",
       "Diphtheria                          19\n",
       "Polio                               19\n",
       "Life expectancy                     10\n",
       "Adult Mortality                     10\n",
       " HIV/AIDS                            0\n",
       "under-five deaths                    0\n",
       "Measles                              0\n",
       "percentage expenditure               0\n",
       "infant deaths                        0\n",
       "Year                                 0"
      ]
     },
     "execution_count": 11,
     "metadata": {},
     "output_type": "execute_result"
    }
   ],
   "source": [
    "count_missings(df)"
   ]
  },
  {
   "cell_type": "code",
   "execution_count": 12,
   "metadata": {},
   "outputs": [],
   "source": [
    "#Showing the Outliers\n",
    "class Outlier():\n",
    "    def __init__(self, df):\n",
    "        self.df = df\n",
    "    def _calculate_bounds(self):\n",
    "        bounds = {\n",
    "            c: dict(zip([\"q1\", \"q3\"], self.df.approxQuantile(c, [0.25, 0.75], 0)))\n",
    "            for c, d in zip(self.df.columns, self.df.dtypes) if d[1] in [\"bigint\", \"double\"]\n",
    "        }\n",
    "        for c in bounds:\n",
    "            iqr = bounds[c]['q3'] - bounds[c]['q1']\n",
    "            bounds[c]['min'] = bounds[c]['q1'] - (iqr * 1.5)\n",
    "            bounds[c]['max'] = bounds[c]['q3'] + (iqr * 1.5)\n",
    "        return bounds\n",
    "    def _flag_outliers_df(self):\n",
    "        bounds = self._calculate_bounds()\n",
    "        outliers_col = [f.when(~f.col(c).between(bounds[c]['min'], bounds[c]['max']),f.col(c)).alias(c + '_outlier')\n",
    "                        for c in bounds]\n",
    "        return self.df.select(*outliers_col)\n",
    "    def show_outliers(self):\n",
    "        outlier_df = self._flag_outliers_df()\n",
    "        for outlier in outlier_df.columns:\n",
    "            outlier_df.select(outlier).filter(f.col(outlier).isNotNull()).show(5)\n"
   ]
  },
  {
   "cell_type": "code",
   "execution_count": 13,
   "metadata": {},
   "outputs": [
    {
     "name": "stdout",
     "output_type": "stream",
     "text": [
      "+-----------------+\n",
      "|Schooling_outlier|\n",
      "+-----------------+\n",
      "|              0.0|\n",
      "|              0.0|\n",
      "|              0.0|\n",
      "|              0.0|\n",
      "|              0.0|\n",
      "+-----------------+\n",
      "only showing top 5 rows\n",
      "\n",
      "+-------------+\n",
      "| BMI _outlier|\n",
      "+-------------+\n",
      "+-------------+\n",
      "\n",
      "+-----------------------------+\n",
      "| thinness  1-19 years_outlier|\n",
      "+-----------------------------+\n",
      "|                         17.2|\n",
      "|                         17.5|\n",
      "|                         17.7|\n",
      "|                         17.9|\n",
      "|                         18.2|\n",
      "+-----------------------------+\n",
      "only showing top 5 rows\n",
      "\n",
      "+-------------------------+\n",
      "|Total expenditure_outlier|\n",
      "+-------------------------+\n",
      "|                    13.66|\n",
      "|                    14.39|\n",
      "|                     12.6|\n",
      "|                    13.73|\n",
      "|                    17.24|\n",
      "+-------------------------+\n",
      "only showing top 5 rows\n",
      "\n",
      "+------------------+\n",
      "|Population_outlier|\n",
      "+------------------+\n",
      "|       3.3736494E7|\n",
      "|       3.1731688E7|\n",
      "|       2.6616792E7|\n",
      "|       2.4118979E7|\n",
      "|       2.1979923E7|\n",
      "+------------------+\n",
      "only showing top 5 rows\n",
      "\n",
      "+------------------------------+\n",
      "|percentage expenditure_outlier|\n",
      "+------------------------------+\n",
      "|                   2422.999774|\n",
      "|                   1991.430372|\n",
      "|                   2156.229842|\n",
      "|                   1810.875316|\n",
      "|                   1983.956937|\n",
      "+------------------------------+\n",
      "only showing top 5 rows\n",
      "\n",
      "+-----------+\n",
      "|GDP_outlier|\n",
      "+-----------+\n",
      "|14252.29452|\n",
      "| 56554.3876|\n",
      "| 62214.6912|\n",
      "| 67792.3386|\n",
      "|67677.63477|\n",
      "+-----------+\n",
      "only showing top 5 rows\n",
      "\n",
      "+------------------------+\n",
      "|Life expectancy _outlier|\n",
      "+------------------------+\n",
      "|                    36.3|\n",
      "|                    44.0|\n",
      "|                    43.5|\n",
      "|                    43.1|\n",
      "|                    43.3|\n",
      "+------------------------+\n",
      "only showing top 5 rows\n",
      "\n",
      "+---------------------------+\n",
      "| thinness 5-9 years_outlier|\n",
      "+---------------------------+\n",
      "|                       17.3|\n",
      "|                       17.5|\n",
      "|                       17.7|\n",
      "|                       18.0|\n",
      "|                       18.2|\n",
      "+---------------------------+\n",
      "only showing top 5 rows\n",
      "\n",
      "+-----------------+\n",
      "| HIV/AIDS_outlier|\n",
      "+-----------------+\n",
      "|              1.9|\n",
      "|              2.0|\n",
      "|              2.3|\n",
      "|              2.6|\n",
      "|              2.5|\n",
      "+-----------------+\n",
      "only showing top 5 rows\n",
      "\n",
      "+---------------------------------------+\n",
      "|Income composition of resources_outlier|\n",
      "+---------------------------------------+\n",
      "|                                    0.0|\n",
      "|                                    0.0|\n",
      "|                                    0.0|\n",
      "|                                    0.0|\n",
      "|                                    0.0|\n",
      "+---------------------------------------+\n",
      "only showing top 5 rows\n",
      "\n",
      "+---------------+\n",
      "|Alcohol_outlier|\n",
      "+---------------+\n",
      "+---------------+\n",
      "\n"
     ]
    }
   ],
   "source": [
    "Outlier(df).show_outliers()"
   ]
  },
  {
   "cell_type": "code",
   "execution_count": 14,
   "metadata": {},
   "outputs": [
    {
     "data": {
      "text/plain": [
       "2938"
      ]
     },
     "execution_count": 14,
     "metadata": {},
     "output_type": "execute_result"
    }
   ],
   "source": [
    "df.count()"
   ]
  },
  {
   "cell_type": "code",
   "execution_count": 15,
   "metadata": {},
   "outputs": [],
   "source": [
    "#Missing Value Replacement\n",
    "from pyspark.sql.functions import mean\n",
    "mean_pop = df.select(mean(df['Population'])).collect()\n",
    "mean_pop_val = mean_pop[0][0]\n",
    "df1=df.na.fill(mean_pop_val, subset=['Population'])\n",
    "mean_hep = df1.select(mean(df['Hepatitis B'])).collect()\n",
    "mean_hep_val = mean_hep[0][0]\n",
    "df1=df1.na.fill(mean_hep_val, subset=['Hepatitis B'])\n",
    "mean_gdp = df1.select(mean(df['GDP'])).collect()\n",
    "mean_gdp_val = mean_gdp[0][0]\n",
    "df1=df1.na.fill(mean_gdp_val, subset=['GDP'])\n",
    "mean_totexp = df1.select(mean(df['Total expenditure'])).collect()\n",
    "mean_totexp_val = mean_totexp[0][0]\n",
    "df1=df1.na.fill(mean_totexp_val, subset=['Total expenditure'])\n",
    "mean_alc = df1.select(mean(df['Alcohol'])).collect()\n",
    "mean_alc_val = mean_alc[0][0]\n",
    "df1=df1.na.fill(mean_alc_val, subset=['Alcohol'])\n",
    "mean_inc = df1.select(mean(df['Income composition of resources'])).collect()\n",
    "mean_inc_val = mean_inc[0][0]\n",
    "df1=df1.na.fill(mean_inc_val, subset=['Income composition of resources'])\n",
    "mean_sch = df1.select(mean(df['Schooling'])).collect()\n",
    "mean_sch_val = mean_sch[0][0]\n",
    "df1=df1.na.fill(mean_sch_val, subset=['Schooling'])"
   ]
  },
  {
   "cell_type": "code",
   "execution_count": 16,
   "metadata": {},
   "outputs": [],
   "source": [
    "df2=df1.na.drop()"
   ]
  },
  {
   "cell_type": "code",
   "execution_count": 17,
   "metadata": {},
   "outputs": [
    {
     "data": {
      "text/html": [
       "<div>\n",
       "<style scoped>\n",
       "    .dataframe tbody tr th:only-of-type {\n",
       "        vertical-align: middle;\n",
       "    }\n",
       "\n",
       "    .dataframe tbody tr th {\n",
       "        vertical-align: top;\n",
       "    }\n",
       "\n",
       "    .dataframe thead th {\n",
       "        text-align: right;\n",
       "    }\n",
       "</style>\n",
       "<table border=\"1\" class=\"dataframe\">\n",
       "  <thead>\n",
       "    <tr style=\"text-align: right;\">\n",
       "      <th></th>\n",
       "      <th>count</th>\n",
       "    </tr>\n",
       "  </thead>\n",
       "  <tbody>\n",
       "    <tr>\n",
       "      <th>Year</th>\n",
       "      <td>0</td>\n",
       "    </tr>\n",
       "    <tr>\n",
       "      <th>Life expectancy</th>\n",
       "      <td>0</td>\n",
       "    </tr>\n",
       "    <tr>\n",
       "      <th>Income composition of resources</th>\n",
       "      <td>0</td>\n",
       "    </tr>\n",
       "    <tr>\n",
       "      <th>thinness 5-9 years</th>\n",
       "      <td>0</td>\n",
       "    </tr>\n",
       "    <tr>\n",
       "      <th>thinness  1-19 years</th>\n",
       "      <td>0</td>\n",
       "    </tr>\n",
       "    <tr>\n",
       "      <th>Population</th>\n",
       "      <td>0</td>\n",
       "    </tr>\n",
       "    <tr>\n",
       "      <th>GDP</th>\n",
       "      <td>0</td>\n",
       "    </tr>\n",
       "    <tr>\n",
       "      <th>HIV/AIDS</th>\n",
       "      <td>0</td>\n",
       "    </tr>\n",
       "    <tr>\n",
       "      <th>Diphtheria</th>\n",
       "      <td>0</td>\n",
       "    </tr>\n",
       "    <tr>\n",
       "      <th>Total expenditure</th>\n",
       "      <td>0</td>\n",
       "    </tr>\n",
       "    <tr>\n",
       "      <th>Polio</th>\n",
       "      <td>0</td>\n",
       "    </tr>\n",
       "    <tr>\n",
       "      <th>under-five deaths</th>\n",
       "      <td>0</td>\n",
       "    </tr>\n",
       "    <tr>\n",
       "      <th>BMI</th>\n",
       "      <td>0</td>\n",
       "    </tr>\n",
       "    <tr>\n",
       "      <th>Measles</th>\n",
       "      <td>0</td>\n",
       "    </tr>\n",
       "    <tr>\n",
       "      <th>Hepatitis B</th>\n",
       "      <td>0</td>\n",
       "    </tr>\n",
       "    <tr>\n",
       "      <th>percentage expenditure</th>\n",
       "      <td>0</td>\n",
       "    </tr>\n",
       "    <tr>\n",
       "      <th>Alcohol</th>\n",
       "      <td>0</td>\n",
       "    </tr>\n",
       "    <tr>\n",
       "      <th>infant deaths</th>\n",
       "      <td>0</td>\n",
       "    </tr>\n",
       "    <tr>\n",
       "      <th>Adult Mortality</th>\n",
       "      <td>0</td>\n",
       "    </tr>\n",
       "    <tr>\n",
       "      <th>Schooling</th>\n",
       "      <td>0</td>\n",
       "    </tr>\n",
       "  </tbody>\n",
       "</table>\n",
       "</div>"
      ],
      "text/plain": [
       "                                 count\n",
       "Year                                 0\n",
       "Life expectancy                      0\n",
       "Income composition of resources      0\n",
       " thinness 5-9 years                  0\n",
       " thinness  1-19 years                0\n",
       "Population                           0\n",
       "GDP                                  0\n",
       " HIV/AIDS                            0\n",
       "Diphtheria                           0\n",
       "Total expenditure                    0\n",
       "Polio                                0\n",
       "under-five deaths                    0\n",
       " BMI                                 0\n",
       "Measles                              0\n",
       "Hepatitis B                          0\n",
       "percentage expenditure               0\n",
       "Alcohol                              0\n",
       "infant deaths                        0\n",
       "Adult Mortality                      0\n",
       "Schooling                            0"
      ]
     },
     "execution_count": 17,
     "metadata": {},
     "output_type": "execute_result"
    }
   ],
   "source": [
    "count_missings(df2)"
   ]
  },
  {
   "cell_type": "code",
   "execution_count": 18,
   "metadata": {
    "scrolled": false
   },
   "outputs": [
    {
     "data": {
      "text/plain": [
       "2888"
      ]
     },
     "execution_count": 18,
     "metadata": {},
     "output_type": "execute_result"
    }
   ],
   "source": [
    "df2.count()"
   ]
  },
  {
   "cell_type": "code",
   "execution_count": 19,
   "metadata": {},
   "outputs": [
    {
     "name": "stdout",
     "output_type": "stream",
     "text": [
      "+-----------+----+----------+----------------+---------------+-------------+-------+----------------------+-----------+--------+-----+------------------+-----+-----------------+-----------+---------+----------+-----------+---------------------+-------------------+-------------------------------+---------+-----------------------+\n",
      "|    Country|Year|    Status|Life expectancy |Adult Mortality|infant deaths|Alcohol|percentage expenditure|Hepatitis B|Measles | BMI |under-five deaths |Polio|Total expenditure|Diphtheria | HIV/AIDS|       GDP| Population| thinness  1-19 years| thinness 5-9 years|Income composition of resources|Schooling|Doubled_Life_Expectancy|\n",
      "+-----------+----+----------+----------------+---------------+-------------+-------+----------------------+-----------+--------+-----+------------------+-----+-----------------+-----------+---------+----------+-----------+---------------------+-------------------+-------------------------------+---------+-----------------------+\n",
      "|Afghanistan|2015|Developing|            65.0|            263|           62|   0.01|           71.27962362|         65|    1154| 19.1|                83|    6|             8.16|         65|      0.1| 584.25921|3.3736494E7|                 17.2|               17.3|                          0.479|     10.1|                  130.0|\n",
      "|Afghanistan|2014|Developing|            59.9|            271|           64|   0.01|           73.52358168|         62|     492| 18.6|                86|   58|             8.18|         62|      0.1|612.696514|   327582.0|                 17.5|               17.5|                          0.476|     10.0|                  119.8|\n",
      "|Afghanistan|2013|Developing|            59.9|            268|           66|   0.01|           73.21924272|         64|     430| 18.1|                89|   62|             8.13|         64|      0.1|631.744976|3.1731688E7|                 17.7|               17.7|                           0.47|      9.9|                  119.8|\n",
      "|Afghanistan|2012|Developing|            59.5|            272|           69|   0.01|            78.1842153|         67|    2787| 17.6|                93|   67|             8.52|         67|      0.1|   669.959|  3696958.0|                 17.9|               18.0|                          0.463|      9.8|                  119.0|\n",
      "|Afghanistan|2011|Developing|            59.2|            275|           71|   0.01|           7.097108703|         68|    3013| 17.2|                97|   68|             7.87|         68|      0.1| 63.537231|  2978599.0|                 18.2|               18.2|                          0.454|      9.5|                  118.4|\n",
      "+-----------+----+----------+----------------+---------------+-------------+-------+----------------------+-----------+--------+-----+------------------+-----+-----------------+-----------+---------+----------+-----------+---------------------+-------------------+-------------------------------+---------+-----------------------+\n",
      "only showing top 5 rows\n",
      "\n"
     ]
    }
   ],
   "source": [
    "#Creating new Columns\n",
    "df2=df2.withColumn('Doubled_Life_Expectancy', df2['Life expectancy ']*2)\n",
    "df2.show(5)"
   ]
  },
  {
   "cell_type": "code",
   "execution_count": 20,
   "metadata": {},
   "outputs": [
    {
     "name": "stdout",
     "output_type": "stream",
     "text": [
      "First Dataset Count: 1448\n",
      "Second Dataset Count: 1440\n"
     ]
    }
   ],
   "source": [
    "#Data Split\n",
    "data1,data2 = df2.randomSplit([0.5,0.5])\n",
    "print(\"First Dataset Count: \" + str(data1.count()))\n",
    "print(\"Second Dataset Count: \" + str(data2.count()))"
   ]
  },
  {
   "cell_type": "code",
   "execution_count": 21,
   "metadata": {},
   "outputs": [
    {
     "name": "stdout",
     "output_type": "stream",
     "text": [
      "Merged Dataset Count: 2880\n"
     ]
    }
   ],
   "source": [
    "#Data Integration\n",
    "newdata = data2.union(data2)\n",
    "print(\"Merged Dataset Count: \" + str(newdata.count()))"
   ]
  },
  {
   "cell_type": "code",
   "execution_count": 22,
   "metadata": {},
   "outputs": [
    {
     "name": "stdout",
     "output_type": "stream",
     "text": [
      "+-----------+----+----------+----------------+---------------+-------------+-------+----------------------+-----------+--------+-----+------------------+-----+-----------------+-----------+---------+----------+-----------+---------------------+-------------------+-------------------------------+---------+-----------------------+--------------+-------------+\n",
      "|    Country|Year|    Status|Life expectancy |Adult Mortality|infant deaths|Alcohol|percentage expenditure|Hepatitis B|Measles | BMI |under-five deaths |Polio|Total expenditure|Diphtheria | HIV/AIDS|       GDP| Population| thinness  1-19 years| thinness 5-9 years|Income composition of resources|Schooling|Doubled_Life_Expectancy|Status_encoded|   Status_vec|\n",
      "+-----------+----+----------+----------------+---------------+-------------+-------+----------------------+-----------+--------+-----+------------------+-----+-----------------+-----------+---------+----------+-----------+---------------------+-------------------+-------------------------------+---------+-----------------------+--------------+-------------+\n",
      "|Afghanistan|2015|Developing|            65.0|            263|           62|   0.01|           71.27962362|         65|    1154| 19.1|                83|    6|             8.16|         65|      0.1| 584.25921|3.3736494E7|                 17.2|               17.3|                          0.479|     10.1|                  130.0|           0.0|(2,[0],[1.0])|\n",
      "|Afghanistan|2014|Developing|            59.9|            271|           64|   0.01|           73.52358168|         62|     492| 18.6|                86|   58|             8.18|         62|      0.1|612.696514|   327582.0|                 17.5|               17.5|                          0.476|     10.0|                  119.8|           0.0|(2,[0],[1.0])|\n",
      "+-----------+----+----------+----------------+---------------+-------------+-------+----------------------+-----------+--------+-----+------------------+-----+-----------------+-----------+---------+----------+-----------+---------------------+-------------------+-------------------------------+---------+-----------------------+--------------+-------------+\n",
      "only showing top 2 rows\n",
      "\n"
     ]
    }
   ],
   "source": [
    "#Changing format of Status Column\n",
    "from pyspark.ml.feature import StringIndexer, OneHotEncoder, VectorAssembler\n",
    "\n",
    "stringIndexer = StringIndexer(inputCol=\"Status\", outputCol=\"Status_encoded\")\n",
    "model = stringIndexer.fit(df2)\n",
    "indexed = model.transform(df2)\n",
    "encoder = OneHotEncoder(dropLast=False, inputCol=\"Status_encoded\", outputCol=\"Status_vec\")\n",
    "encoded = encoder.transform(indexed)\n",
    "encoded.show(2)"
   ]
  },
  {
   "cell_type": "code",
   "execution_count": 23,
   "metadata": {},
   "outputs": [
    {
     "name": "stdout",
     "output_type": "stream",
     "text": [
      "Normalized using L^1 norm\n"
     ]
    },
    {
     "data": {
      "text/plain": [
       "[Row(Country='Afghanistan', Year=2015, Status='Developing', Life expectancy =65.0, Adult Mortality=263, infant deaths=62, Alcohol=0.01, percentage expenditure=71.27962362, Hepatitis B=65, Measles =1154,  BMI =19.1, under-five deaths =83, Polio=6, Total expenditure=8.16, Diphtheria =65,  HIV/AIDS=0.1, GDP=584.25921, Population=33736494.0,  thinness  1-19 years=17.2,  thinness 5-9 years=17.3, Income composition of resources=0.479, Schooling=10.1, Doubled_Life_Expectancy=130.0, features=DenseVector([2015.0, 263.0, 62.0, 0.01, 71.2796, 65.0, 1154.0, 19.1, 83.0, 6.0, 8.16, 65.0, 0.1, 584.2592, 33736494.0, 17.2, 17.3, 0.479, 10.1]), normFeatures=DenseVector([0.0001, 0.0, 0.0, 0.0, 0.0, 0.0, 0.0, 0.0, 0.0, 0.0, 0.0, 0.0, 0.0, 0.0, 0.9999, 0.0, 0.0, 0.0, 0.0]))]"
      ]
     },
     "execution_count": 23,
     "metadata": {},
     "output_type": "execute_result"
    }
   ],
   "source": [
    "#Transform the data\n",
    "from pyspark.ml.feature import Normalizer\n",
    "from pyspark.ml.linalg import Vectors\n",
    "\n",
    "assembler = VectorAssembler(\n",
    "  inputCols=['Year',\n",
    "             'Adult Mortality',\n",
    "             'infant deaths',\n",
    "             'Alcohol',\n",
    "             'percentage expenditure',\n",
    "             'Hepatitis B',\n",
    "             'Measles ',\n",
    "             ' BMI ',\n",
    "             'under-five deaths ',\n",
    "             'Polio',\n",
    "             'Total expenditure',\n",
    "             'Diphtheria ',\n",
    "             ' HIV/AIDS',\n",
    "             'GDP',\n",
    "             'Population',\n",
    "             ' thinness  1-19 years',\n",
    "             ' thinness 5-9 years',\n",
    "             'Income composition of resources',\n",
    "             'Schooling'],\n",
    "              outputCol=\"features\")\n",
    "final=assembler.transform(df2)\n",
    "\n",
    "normalizer = Normalizer(inputCol=\"features\", outputCol=\"normFeatures\", p=1.0)\n",
    "l1NormData = normalizer.transform(final)\n",
    "print(\"Normalized using L^1 norm\")\n",
    "l1NormData.head(1)"
   ]
  },
  {
   "cell_type": "code",
   "execution_count": 24,
   "metadata": {},
   "outputs": [],
   "source": [
    "train_data,test_data = final.randomSplit([0.8,0.2])"
   ]
  },
  {
   "cell_type": "code",
   "execution_count": 25,
   "metadata": {},
   "outputs": [
    {
     "name": "stdout",
     "output_type": "stream",
     "text": [
      "Training Dataset Count: 2323\n",
      "Testing Dataset Count: 565\n"
     ]
    }
   ],
   "source": [
    "print(\"Training Dataset Count: \" + str(train_data.count()))\n",
    "print(\"Testing Dataset Count: \" + str(test_data.count()))"
   ]
  },
  {
   "cell_type": "code",
   "execution_count": 26,
   "metadata": {},
   "outputs": [
    {
     "name": "stdout",
     "output_type": "stream",
     "text": [
      "+-----------+----+----------+----------------+---------------+-------------+-------+----------------------+-----------+--------+-----+------------------+-----+-----------------+-----------+---------+---------+----------+---------------------+-------------------+-------------------------------+---------+-----------------------+--------------------+\n",
      "|    Country|Year|    Status|Life expectancy |Adult Mortality|infant deaths|Alcohol|percentage expenditure|Hepatitis B|Measles | BMI |under-five deaths |Polio|Total expenditure|Diphtheria | HIV/AIDS|      GDP|Population| thinness  1-19 years| thinness 5-9 years|Income composition of resources|Schooling|Doubled_Life_Expectancy|            features|\n",
      "+-----------+----+----------+----------------+---------------+-------------+-------+----------------------+-----------+--------+-----+------------------+-----+-----------------+-----------+---------+---------+----------+---------------------+-------------------+-------------------------------+---------+-----------------------+--------------------+\n",
      "|Afghanistan|2000|Developing|            54.8|            321|           88|   0.01|              10.42496|         62|    6532| 12.2|               122|   24|              8.2|         24|      0.1|   114.56|  293756.0|                  2.3|                2.5|                          0.338|      5.5|                  109.6|[2000.0,321.0,88....|\n",
      "|Afghanistan|2001|Developing|            55.3|            316|           88|   0.01|            10.5747282|         63|    8762| 12.6|               122|   35|              7.8|         33|      0.1|117.49698| 2966463.0|                  2.1|                2.4|                           0.34|      5.9|                  110.6|[2001.0,316.0,88....|\n",
      "+-----------+----+----------+----------------+---------------+-------------+-------+----------------------+-----------+--------+-----+------------------+-----+-----------------+-----------+---------+---------+----------+---------------------+-------------------+-------------------------------+---------+-----------------------+--------------------+\n",
      "only showing top 2 rows\n",
      "\n",
      "+-----------+----+----------+----------------+---------------+-------------+-------+----------------------+-----------+--------+-----+------------------+-----+-----------------+-----------+---------+-----------+-----------+---------------------+-------------------+-------------------------------+---------+-----------------------+--------------------+\n",
      "|    Country|Year|    Status|Life expectancy |Adult Mortality|infant deaths|Alcohol|percentage expenditure|Hepatitis B|Measles | BMI |under-five deaths |Polio|Total expenditure|Diphtheria | HIV/AIDS|        GDP| Population| thinness  1-19 years| thinness 5-9 years|Income composition of resources|Schooling|Doubled_Life_Expectancy|            features|\n",
      "+-----------+----+----------+----------------+---------------+-------------+-------+----------------------+-----------+--------+-----+------------------+-----+-----------------+-----------+---------+-----------+-----------+---------------------+-------------------+-------------------------------+---------+-----------------------+--------------------+\n",
      "|Afghanistan|2004|Developing|            57.0|            293|           87|   0.02|           15.29606643|         67|     466| 13.8|               120|    5|             8.79|          5|      0.1|219.1413528|2.4118979E7|                 19.5|               19.7|                          0.381|      6.8|                  114.0|[2004.0,293.0,87....|\n",
      "|Afghanistan|2005|Developing|            57.3|            291|           85|   0.02|           1.388647732|         66|    1296| 14.2|               118|   58|              8.7|         58|      0.1| 25.2941299|   257798.0|                 19.3|               19.5|                          0.396|      7.9|                  114.6|[2005.0,291.0,85....|\n",
      "+-----------+----+----------+----------------+---------------+-------------+-------+----------------------+-----------+--------+-----+------------------+-----+-----------------+-----------+---------+-----------+-----------+---------------------+-------------------+-------------------------------+---------+-----------------------+--------------------+\n",
      "only showing top 2 rows\n",
      "\n"
     ]
    }
   ],
   "source": [
    "train_data.show(2)\n",
    "test_data.show(2)"
   ]
  },
  {
   "cell_type": "code",
   "execution_count": 27,
   "metadata": {},
   "outputs": [],
   "source": [
    "#Linear Regression on Raw data\n",
    "lr1 = LinearRegression(featuresCol='features', labelCol='Life expectancy ', predictionCol='prediction')\n",
    "lrModel1 = lr1.fit(final)"
   ]
  },
  {
   "cell_type": "code",
   "execution_count": 28,
   "metadata": {},
   "outputs": [
    {
     "name": "stdout",
     "output_type": "stream",
     "text": [
      "Coefficients: [-0.016775066480263216,-0.02021463495627747,0.09703734635663123,0.11226934549979334,0.00011686650319924771,-0.013389490301605158,-2.1006424290000457e-05,0.039221008734863685,-0.0724829388458426,0.02848430572737853,0.07313736643514569,0.039460206277326416,-0.470214588989915,3.604485157410914e-05,1.3546834910560836e-11,-0.07249921981027509,-0.0018471591129023345,6.076345390213576,0.7474028508588368]\n",
      "\n",
      "\n",
      "Intercept:87.43174961867935\n"
     ]
    }
   ],
   "source": [
    "print(\"Coefficients: {}\".format(str(lrModel1.coefficients)))\n",
    "print('\\n')\n",
    "print(\"Intercept:{}\".format(str(lrModel1.intercept)))"
   ]
  },
  {
   "cell_type": "code",
   "execution_count": 29,
   "metadata": {},
   "outputs": [
    {
     "name": "stdout",
     "output_type": "stream",
     "text": [
      "+-------------------+\n",
      "|          residuals|\n",
      "+-------------------+\n",
      "|  4.334699850209262|\n",
      "|-1.8814604164303574|\n",
      "| -1.954627769416085|\n",
      "| -2.341008364247223|\n",
      "|-2.1566593640738603|\n",
      "+-------------------+\n",
      "only showing top 5 rows\n",
      "\n"
     ]
    }
   ],
   "source": [
    "trainingSummary1 = lrModel1.summary\n",
    "trainingSummary1.residuals.show(5)"
   ]
  },
  {
   "cell_type": "code",
   "execution_count": 30,
   "metadata": {},
   "outputs": [
    {
     "name": "stdout",
     "output_type": "stream",
     "text": [
      "RMSE: 4.035431133886131\n",
      "R^2: 0.8193241942414985\n"
     ]
    }
   ],
   "source": [
    "#Printing Root Mean Squared Error \n",
    "print(\"RMSE: {}\".format(trainingSummary1.rootMeanSquaredError))\n",
    "\n",
    "#Printing R-Squared\n",
    "print(\"R^2: {}\".format(trainingSummary1.r2))\n"
   ]
  },
  {
   "cell_type": "code",
   "execution_count": 31,
   "metadata": {},
   "outputs": [],
   "source": [
    "#Linear Regression on Cleaned data\n",
    "lr = LinearRegression(labelCol='Life expectancy ')\n",
    "lrModel = lr.fit(train_data)"
   ]
  },
  {
   "cell_type": "code",
   "execution_count": 32,
   "metadata": {},
   "outputs": [
    {
     "name": "stdout",
     "output_type": "stream",
     "text": [
      "Coefficients: [-0.010370962209208238,-0.020557962781258935,0.09546007513215636,0.1305270043241027,0.00011344715003270555,-0.014688527678440377,-2.4054212439604347e-05,0.043084716998849956,-0.07110743268663808,0.037389463824023646,0.05744539102890746,0.03825636633825681,-0.4553035040064571,3.7969965060886336e-05,-4.903313326668561e-10,-0.09474501712830705,0.010878880255708497,6.235564387733529,0.6798674395176199]\n",
      "\n",
      "\n",
      "Intercept:74.67749373936209\n"
     ]
    }
   ],
   "source": [
    "print(\"Coefficients: {}\".format(str(lrModel.coefficients))) \n",
    "print('\\n')\n",
    "print(\"Intercept:{}\".format(str(lrModel.intercept)))"
   ]
  },
  {
   "cell_type": "code",
   "execution_count": 33,
   "metadata": {},
   "outputs": [
    {
     "name": "stdout",
     "output_type": "stream",
     "text": [
      "+-------------------+\n",
      "|          residuals|\n",
      "+-------------------+\n",
      "|  3.553915682907416|\n",
      "|-1.0050629591586002|\n",
      "|-1.4663184595800445|\n",
      "|-1.8349222109651606|\n",
      "|-1.1339297986971104|\n",
      "+-------------------+\n",
      "only showing top 5 rows\n",
      "\n"
     ]
    }
   ],
   "source": [
    "test_results = lrModel.evaluate(test_data)\n",
    "test_results.residuals.show(5)"
   ]
  },
  {
   "cell_type": "code",
   "execution_count": 34,
   "metadata": {},
   "outputs": [
    {
     "name": "stdout",
     "output_type": "stream",
     "text": [
      "RSME: 3.9017959355131024\n",
      "R^2: 0.8267240736551594\n"
     ]
    }
   ],
   "source": [
    "print(\"RSME: {}\".format(test_results.rootMeanSquaredError))\n",
    "print(\"R^2: {}\".format(test_results.r2))"
   ]
  },
  {
   "cell_type": "code",
   "execution_count": 35,
   "metadata": {},
   "outputs": [],
   "source": [
    "#Random Forest Model\n",
    "from pyspark.ml.regression import RandomForestRegressor\n",
    "rf = RandomForestRegressor(featuresCol=\"features\", labelCol=\"Life expectancy \", predictionCol=\"Prediction\", seed=42)"
   ]
  },
  {
   "cell_type": "code",
   "execution_count": 36,
   "metadata": {},
   "outputs": [],
   "source": [
    "model = rf.fit(train_data)\n",
    "predictions = model.transform(test_data)"
   ]
  },
  {
   "cell_type": "code",
   "execution_count": 37,
   "metadata": {},
   "outputs": [
    {
     "name": "stdout",
     "output_type": "stream",
     "text": [
      "+------------------+----------------+\n",
      "|        Prediction|Life expectancy |\n",
      "+------------------+----------------+\n",
      "|59.858369039632905|            57.0|\n",
      "|59.858369039632905|            57.3|\n",
      "| 60.39316722383544|            58.6|\n",
      "| 61.36146317833932|            59.2|\n",
      "| 74.56249939466832|            73.0|\n",
      "+------------------+----------------+\n",
      "only showing top 5 rows\n",
      "\n"
     ]
    }
   ],
   "source": [
    "predictions.select(\"Prediction\", \"Life expectancy \").show(5)"
   ]
  },
  {
   "cell_type": "code",
   "execution_count": 38,
   "metadata": {},
   "outputs": [
    {
     "name": "stdout",
     "output_type": "stream",
     "text": [
      "RMSE: 2.467552991530858\n",
      "R^2: 0.9306985851134318\n"
     ]
    }
   ],
   "source": [
    "from pyspark.ml.evaluation import RegressionEvaluator\n",
    "\n",
    "evaluator = RegressionEvaluator(labelCol=\"Life expectancy \", predictionCol=\"Prediction\")\n",
    "rmse = evaluator.evaluate(predictions, {evaluator.metricName: \"rmse\"})\n",
    "r2 = evaluator.evaluate(predictions, {evaluator.metricName: \"r2\"})\n",
    "\n",
    "#Printing Model Metrics\n",
    "print('RMSE: ' + str(rmse))\n",
    "print('R^2: ' + str(r2))"
   ]
  },
  {
   "cell_type": "code",
   "execution_count": null,
   "metadata": {},
   "outputs": [],
   "source": []
  }
 ],
 "metadata": {
  "kernelspec": {
   "display_name": "Python 3",
   "language": "python",
   "name": "python3"
  },
  "language_info": {
   "codemirror_mode": {
    "name": "ipython",
    "version": 3
   },
   "file_extension": ".py",
   "mimetype": "text/x-python",
   "name": "python",
   "nbconvert_exporter": "python",
   "pygments_lexer": "ipython3",
   "version": "3.5.2"
  }
 },
 "nbformat": 4,
 "nbformat_minor": 2
}
